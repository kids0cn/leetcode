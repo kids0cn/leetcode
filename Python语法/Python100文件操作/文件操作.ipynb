{
 "metadata": {
  "language_info": {
   "codemirror_mode": {
    "name": "ipython",
    "version": 3
   },
   "file_extension": ".py",
   "mimetype": "text/x-python",
   "name": "python",
   "nbconvert_exporter": "python",
   "pygments_lexer": "ipython3",
   "version": "3.8.3-final"
  },
  "orig_nbformat": 2,
  "kernelspec": {
   "name": "python3",
   "display_name": "Python 3"
  }
 },
 "nbformat": 4,
 "nbformat_minor": 2,
 "cells": [
  {
   "cell_type": "code",
   "execution_count": 3,
   "metadata": {
    "tags": []
   },
   "outputs": [
    {
     "output_type": "stream",
     "name": "stdout",
     "text": "卡硬工具箱默认使用的图标如果各用户不喜欢。可以在快捷方式处自行修改为其他样式。\n\n\n-----------------------------------\n免责声明：本工具箱软件均为精简版，仅做了简单的整合。未对任何软件进行破解。\n请相关软件方不要以该理由骚扰我们（包括QQ，邮件等）。谢谢。\n-----------------------------------\n\n\n最常用软件：\n-----------------------------------\n性能测试：\nFritz Chess Benchmark （国际象棋跑分）   用于测试CPU计算性能。以P3处理器作为比照。很常见的用来测试处理器性能的工具\n\nFurMark 烤机 （俗称甜甜圈）   用于测试显卡的性能和稳定性。较为常见。\n\nHWMonitor     实时监测CPU的电压、温度、风扇转速、内存电压、主板南北桥温度、硬盘温度、显卡温度等。 \n\nPrime95      这是一个专门测试系统稳定性的软件（请在菜单 options->start on logon 去掉选中。默认此软件会自动在开机启动） \n\nSuper PI      这是利用CPU的浮点运算能力来计算出π（圆周率），所以目前普遍被超频玩家用做测试系统稳定性和测试CPU计算完后特定位数圆周率所需的时间。 \n\n3DMARK       这是一款多功能的性能测试工具。但由于体积庞大未收入本工具箱内。请到资源区下载（地址在本文件末尾）\n\n-----------------------------------\n参数查看：\nCPU-Z      这是一款CPU（处理器）参数识别工具，\n\nGPU-Z      这是一款GPU（显卡）参数识别工具，可显示核心参数，以及运行频率与带宽等\n\nGPUINFO    用于识别显卡，帮助用户了解显卡的底层信息，同时可通过参数比对识别N卡是否为假卡。但由于数据库很久未更新所以新卡不容易检测。\n\nPhysxMOD    这是AN混交用的N卡驱动破解工具，支持到N卡320，推荐310.90。一般情况下很少能用到。 \n\nDisplayX    这是一款显示器常规检测和液晶显示器坏点、延迟时间检测软件\n\nAIDA64      系统综合信息的检测。同时还可以对多个硬件进行性能评估。\n\nHDtune      硬盘信息检测工具。 本软件最为常用。\n\ndiskinfo     硬盘信息检测工具。 \n\nSSDLIFE      本软件主要用来检测SSD的使用时间和寿命等信息。\n\nfinaldata    硬盘数据还原工具。可以恢复被误删，或用于快速格式化后的数据恢复（如果有新文件写入会降低成功率）\n\ndiskgenius   这是一款硬盘分区及数据恢复软件，主要用于分区的建立删除，硬盘复制与分区备份等。同时支持操作（VM\\VPC\\VBOX）虚拟机的硬盘。\n\n-----------------------------------\n科学上网：\n \nShadowsocks （影梭）     科学上网工具。但需服务器（由于使用本团队提供的免费公共帐号作死的太多，所以关闭公共帐号）\n\n\n\n\n其他软件资源请看：http://www.kbtool.cn/ziyuan.html\n\n\n\n\n\n"
    }
   ],
   "source": [
    "def main():\n",
    "    f = open('test.txt','r',encoding='gbk')\n",
    "    print(f.read())\n",
    "    f.close()\n",
    "if __name__ == '__main__':\n",
    "    main()"
   ]
  },
  {
   "source": [
    "open函数如果打开失败会爆出异常，程序奔溃，所以需要利用Python的异常处理"
   ],
   "cell_type": "markdown",
   "metadata": {}
  },
  {
   "cell_type": "code",
   "execution_count": 4,
   "metadata": {
    "tags": []
   },
   "outputs": [
    {
     "output_type": "stream",
     "name": "stdout",
     "text": "文件编码错误\n"
    }
   ],
   "source": [
    "def main():\n",
    "    f = None\n",
    "    try:\n",
    "        f = open(\"test.txt\",'r',encoding='utf-8')\n",
    "        print(f.readline())\n",
    "    except FileNotFoundError:\n",
    "        print(\"无法打开指定的文件\")\n",
    "    except LookupError:\n",
    "        print(\"未知编码\")\n",
    "    except UnicodeDecodeError:\n",
    "        print(\"文件编码错误\")\n",
    "    finally:\n",
    "        if f:\n",
    "            f.close()\n",
    "\n",
    "main()"
   ]
  },
  {
   "source": [
    "我们可以将那些在运行时可能会出现状况的代码放在try代码块中，在try代码块的后面可以跟上一个或多个except来捕获可能出现的异常状况。\n",
    "最后我们使用finally代码块来关闭打开的文件，释放掉程序中获取的外部资源，由于finally块的代码不论程序正常还是异常都会执行到，因此我们通常把finally块称为“总是执行代码块”，它最适合用来做释放外部资源的操作。"
   ],
   "cell_type": "markdown",
   "metadata": {}
  },
  {
   "source": [
    "也可以使用上下文语法，通过with关键字指定文件对象的上下文环境并在离开上下文环境时自动释放文件资源\n"
   ],
   "cell_type": "markdown",
   "metadata": {}
  },
  {
   "cell_type": "code",
   "execution_count": 7,
   "metadata": {
    "tags": []
   },
   "outputs": [
    {
     "output_type": "stream",
     "name": "stdout",
     "text": "卡硬工具箱默认使用的图标如果各用户不喜欢。可以在快捷方式处自行修改为其他样式。\n\n"
    }
   ],
   "source": [
    "def main():\n",
    "    try:\n",
    "        with open('test.txt','r',encoding='gbk') as f:\n",
    "            print(f.readline())\n",
    "    except FileNotFoundError:\n",
    "        print(\"没有发现\")\n",
    "    except UnicodeDecodeError:\n",
    "        print(\"编码错误\")\n",
    "main()"
   ]
  },
  {
   "cell_type": "code",
   "execution_count": 8,
   "metadata": {
    "tags": []
   },
   "outputs": [
    {
     "output_type": "stream",
     "name": "stdout",
     "text": "卡硬工具箱默认使用的图标如果各用户不喜欢。可以在快捷方式处自行修改为其他样式。\n\n卡硬工具箱默认使用的图标如果各用户不喜欢。可以在快捷方式处自行修改为其他样式。\n\n\n-----------------------------------\n免责声明：本工具箱软件均为精简版，仅做了简单的整合。未对任何软件进行破解。\n请相关软件方不要以该理由骚扰我们（包括QQ，邮件等）。谢谢。\n-----------------------------------\n\n\n最常用软件：\n-----------------------------------\n性能测试：\nFritz Chess Benchmark （国际象棋跑分）   用于测试CPU计算性能。以P3处理器作为比照。很常见的用来测试处理器性能的工具\n\nFurMark 烤机 （俗称甜甜圈）   用于测试显卡的性能和稳定性。较为常见。\n\nHWMonitor     实时监测CPU的电压、温度、风扇转速、内存电压、主板南北桥温度、硬盘温度、显卡温度等。 \n\nPrime95      这是一个专门测试系统稳定性的软件（请在菜单 options->start on logon 去掉选中。默认此软件会自动在开机启动） \n\nSuper PI      这是利用CPU的浮点运算能力来计算出π（圆周率），所以目前普遍被超频玩家用做测试系统稳定性和测试CPU计算完后特定位数圆周率所需的时间。 \n\n3DMARK       这是一款多功能的性能测试工具。但由于体积庞大未收入本工具箱内。请到资源区下载（地址在本文件末尾）\n\n-----------------------------------\n参数查看：\nCPU-Z      这是一款CPU（处理器）参数识别工具，\n\nGPU-Z      这是一款GPU（显卡）参数识别工具，可显示核心参数，以及运行频率与带宽等\n\nGPUINFO    用于识别显卡，帮助用户了解显卡的底层信息，同时可通过参数比对识别N卡是否为假卡。但由于数据库很久未更新所以新卡不容易检测。\n\nPhysxMOD    这是AN混交用的N卡驱动破解工具，支持到N卡320，推荐310.90。一般情况下很少能用到。 \n\nDisplayX    这是一款显示器常规检测和液晶显示器坏点、延迟时间检测软件\n\nAIDA64      系统综合信息的检测。同时还可以对多个硬件进行性能评估。\n\nHDtune      硬盘信息检测工具。 本软件最为常用。\n\ndiskinfo     硬盘信息检测工具。 \n\nSSDLIFE      本软件主要用来检测SSD的使用时间和寿命等信息。\n\nfinaldata    硬盘数据还原工具。可以恢复被误删，或用于快速格式化后的数据恢复（如果有新文件写入会降低成功率）\n\ndiskgenius   这是一款硬盘分区及数据恢复软件，主要用于分区的建立删除，硬盘复制与分区备份等。同时支持操作（VM\\VPC\\VBOX）虚拟机的硬盘。\n\n-----------------------------------\n科学上网：\n \nShadowsocks （影梭）     科学上网工具。但需服务器（由于使用本团队提供的免费公共帐号作死的太多，所以关闭公共帐号）\n\n\n\n\n其他软件资源请看：http://www.kbtool.cn/ziyuan.html\n\n\n\n\n\n['卡硬工具箱默认使用的图标如果各用户不喜欢。可以在快捷方式处自行修改为其他样式。\\n', '\\n', '\\n', '-----------------------------------\\n', '免责声明：本工具箱软件均为精简版，仅做了简单的整合。未对任何软件进行破解。\\n', '请相关软件方不要以该理由骚扰我们（包括QQ，邮件等）。谢谢。\\n', '-----------------------------------\\n', '\\n', '\\n', '最常用软件：\\n', '-----------------------------------\\n', '性能测试：\\n', 'Fritz Chess Benchmark （国际象棋跑分）   用于测试CPU计算性能。以P3处理器作为比照。很常见的用来测试处理器性能的工具\\n', '\\n', 'FurMark 烤机 （俗称甜甜圈）   用于测试显卡的性能和稳定性。较为常见。\\n', '\\n', 'HWMonitor     实时监测CPU的电压、温度、风扇转速、内存电压、主板南北桥温度、硬盘温度、显卡温度等。 \\n', '\\n', 'Prime95      这是一个专门测试系统稳定性的软件（请在菜单 options->start on logon 去掉选中。默认此软件会自动在开机启动） \\n', '\\n', 'Super PI      这是利用CPU的浮点运算能力来计算出π（圆周率），所以目前普遍被超频玩家用做测试系统稳定性和测试CPU计算完后特定位数圆周率所需的时间。 \\n', '\\n', '3DMARK       这是一款多功能的性能测试工具。但由于体积庞大未收入本工具箱内。请到资源区下载（地址在本文件末尾）\\n', '\\n', '-----------------------------------\\n', '参数查看：\\n', 'CPU-Z      这是一款CPU（处理器）参数识别工具，\\n', '\\n', 'GPU-Z      这是一款GPU（显卡）参数识别工具，可显示核心参数，以及运行频率与带宽等\\n', '\\n', 'GPUINFO    用于识别显卡，帮助用户了解显卡的底层信息，同时可通过参数比对识别N卡是否为假卡。但由于数据库很久未更新所以新卡不容易检测。\\n', '\\n', 'PhysxMOD    这是AN混交用的N卡驱动破解工具，支持到N卡320，推荐310.90。一般情况下很少能用到。 \\n', '\\n', 'DisplayX    这是一款显示器常规检测和液晶显示器坏点、延迟时间检测软件\\n', '\\n', 'AIDA64      系统综合信息的检测。同时还可以对多个硬件进行性能评估。\\n', '\\n', 'HDtune      硬盘信息检测工具。 本软件最为常用。\\n', '\\n', 'diskinfo     硬盘信息检测工具。 \\n', '\\n', 'SSDLIFE      本软件主要用来检测SSD的使用时间和寿命等信息。\\n', '\\n', 'finaldata    硬盘数据还原工具。可以恢复被误删，或用于快速格式化后的数据恢复（如果有新文件写入会降低成功率）\\n', '\\n', 'diskgenius   这是一款硬盘分区及数据恢复软件，主要用于分区的建立删除，硬盘复制与分区备份等。同时支持操作（VM\\\\VPC\\\\VBOX）虚拟机的硬盘。\\n', '\\n', '-----------------------------------\\n', '科学上网：\\n', ' \\n', 'Shadowsocks （影梭）     科学上网工具。但需服务器（由于使用本团队提供的免费公共帐号作死的太多，所以关闭公共帐号）\\n', '\\n', '\\n', '\\n', '\\n', '其他软件资源请看：http://www.kbtool.cn/ziyuan.html\\n', '\\n', '\\n', '\\n', '\\n']\n"
    }
   ],
   "source": [
    "import time\n",
    "\n",
    "def main():\n",
    "    # 一次读取所有内容\n",
    "    with open('test.txt','r',encoding='gbk') as f:\n",
    "        print(f.readline())\n",
    "    \n",
    "    # 通过for-in循环逐行读取\n",
    "    with open('test.txt','r') as f:\n",
    "        for line in f:\n",
    "            print(line,end='')\n",
    "            time.sleep(0.5)\n",
    "    print()\n",
    "\n",
    "    # 读取文件按行读取到了列表中\n",
    "    with open(\"test.txt\") as f:\n",
    "        lines = f.readlines()\n",
    "    print(lines)\n",
    "\n",
    "main()"
   ]
  },
  {
   "source": [
    "文件写入\n"
   ],
   "cell_type": "markdown",
   "metadata": {}
  },
  {
   "cell_type": "code",
   "execution_count": 2,
   "metadata": {
    "tags": []
   },
   "outputs": [
    {
     "output_type": "stream",
     "name": "stdout",
     "text": "操作完成\n"
    }
   ],
   "source": [
    "from math import sqrt\n",
    "\n",
    "def is_prime(n):\n",
    "    assert n>0\n",
    "    for factor in range(2,int(sqrt(n))+1):\n",
    "        if n%factor == 0:\n",
    "            return False\n",
    "    return True if n != 1 else False\n",
    "\n",
    "def main():\n",
    "    filenames = ('a.txt','b.txt','c.txt')\n",
    "    fs_list = []\n",
    "    try:\n",
    "        for filename in filenames:\n",
    "            fs_list.append(open(filename,'w',encoding='utf-8'))\n",
    "        for number in range(1,10000):\n",
    "            if is_prime(number):\n",
    "                if number < 100:\n",
    "                    fs_list[0].write(str(number)+'\\n')\n",
    "                elif number <1000:\n",
    "                    fs_list[1].write(str(number)+'\\n')\n",
    "                else:\n",
    "                    fs_list[2].write(str(number)+'\\n')\n",
    "    except IOError as ex:\n",
    "        print(ex)\n",
    "        print('写文件错误')\n",
    "    finally:\n",
    "        for fs in fs_list:\n",
    "            fs.close()\n",
    "    print(\"操作完成\")\n",
    "\n",
    "if __name__ == '__main__':\n",
    "    main()"
   ]
  },
  {
   "source": [
    "读写二进制文件\n"
   ],
   "cell_type": "markdown",
   "metadata": {}
  },
  {
   "cell_type": "code",
   "execution_count": null,
   "metadata": {},
   "outputs": [],
   "source": [
    "def main():\n",
    "    try:\n",
    "        with open('guido')"
   ]
  }
 ]
}