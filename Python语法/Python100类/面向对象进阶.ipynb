{
 "metadata": {
  "language_info": {
   "codemirror_mode": {
    "name": "ipython",
    "version": 3
   },
   "file_extension": ".py",
   "mimetype": "text/x-python",
   "name": "python",
   "nbconvert_exporter": "python",
   "pygments_lexer": "ipython3",
   "version": "3.7.7-final"
  },
  "orig_nbformat": 2,
  "kernelspec": {
   "name": "python_defaultSpec_1599738385052",
   "display_name": "Python 3.7.7 32-bit"
  }
 },
 "nbformat": 4,
 "nbformat_minor": 2,
 "cells": [
  {
   "cell_type": "code",
   "execution_count": 3,
   "metadata": {
    "tags": []
   },
   "outputs": [
    {
     "output_type": "stream",
     "name": "stdout",
     "text": "王大锤正在玩飞机\n王大锤正在玩斗地主\n"
    }
   ],
   "source": [
    "'''\n",
    "使用@property包装器来包装getter和setter方法，使得对属性的访问既安全又方便\n",
    "'''\n",
    "class Person(object):\n",
    "    def __init__(self,name,age):\n",
    "        self._name = name\n",
    "        self._age = age\n",
    "# 访问器 getter方法\n",
    "    @property\n",
    "    def name(self):\n",
    "        return self._name\n",
    "        # 访问器 getter方法\n",
    "    @property\n",
    "    def age(self):\n",
    "        return self._age\n",
    "    # 注意这两个名字一模一样\n",
    "    # 修改器 setter\n",
    "    @age.setter\n",
    "    def age(self,age):\n",
    "        self._age = age\n",
    "\n",
    "    def play(self):\n",
    "        if self._age <=16:\n",
    "            print(\"%s正在玩飞机\"%self._name)\n",
    "        else:\n",
    "            print(\"%s正在玩斗地主\"%self._name)\n",
    "\n",
    "def main():\n",
    "    person = Person(\"王大锤\",12)\n",
    "    person.play()\n",
    "    person.age=22\n",
    "    person.play()\n",
    "\n",
    "if __name__ == \"__main__\":\n",
    "    main()"
   ]
  },
  {
   "cell_type": "code",
   "execution_count": null,
   "metadata": {},
   "outputs": [],
   "source": [
    "# __slots__\n",
    "'''\n",
    "python是动态语言，允许执行过程中添加属性和方法\n",
    "slot设定该类只能 绑定固定的方法\n",
    "'''\n",
    "class person(object)\n",
    "    __slots__ = (\"_name\",\"_age\",\"_gender\")\n",
    "\n",
    "    def __init__(self,name,age):\n",
    "        self._name = name\n",
    "        self._age = age\n",
    "    @property\n",
    "    def name(self):\n",
    "        return self._name\n",
    "    def age(self):\n",
    "        return self._age\n",
    "    \n",
    "    @age.setter\n",
    "    def age(self,age):\n",
    "        self._age = age\n",
    "    \n",
    "    def play(self):\n",
    "        if self._age <=16:\n",
    "            print(\"%s正在玩飞行器.\"%self._name)\n",
    "        else:\n",
    "            print(\"%s正在玩斗地主.\"%self._name)\n",
    "\n",
    "def main():\n",
    "    person = Person(\"王大锤\",12)\n",
    "    person.paly()\n",
    "    person"
   ]
  },
  {
   "cell_type": "markdown",
   "metadata": {},
   "source": [
    "## 静态方法和类方法\n",
    "### 1.静态方法"
   ]
  },
  {
   "cell_type": "code",
   "execution_count": 2,
   "metadata": {
    "tags": []
   },
   "outputs": [
    {
     "output_type": "stream",
     "name": "stdout",
     "text": "12\n6.0\n12\n6.0\n"
    }
   ],
   "source": [
    "from math import sqrt\n",
    "\n",
    "class Triangle(object):\n",
    "    def __init__(self,a,b,c):\n",
    "        self._a = a\n",
    "        self._b = b\n",
    "        self._c = c\n",
    "    \n",
    "    @staticmethod\n",
    "    def is_valid(a,b,c):\n",
    "        return a+b > c and b+c >a and a+c >b\n",
    "    \n",
    "    def perimeter(self):\n",
    "        return self._a + self._b + self._c\n",
    "    def area(self):\n",
    "        half = self.perimeter()/2\n",
    "        return sqrt(half * (half -self._a) * (half-self._b) * (half - self._c))\n",
    "\n",
    "def main():\n",
    "    a,b,c = 3,4,5\n",
    "    # 静态方法和类方法都是通过给类发消息来调用的\n",
    "    # 静态方法就是在还没有实例化类的时候，调用其中一些方法\n",
    "    if Triangle.is_valid(a,b,c):\n",
    "        t = Triangle(a,b,c)\n",
    "        print(t.perimeter())\n",
    "        print(t.area())\n",
    "        # 也可以通过给类发消息来调用对象方法，但是要出入接受消息的对象\n",
    "        print(Triangle.perimeter(t))\n",
    "        print(Triangle.area(t))\n",
    "    else:\n",
    "        print(\"无法构成三角形\")\n",
    "\n",
    "if __name__ == \"__main__\":\n",
    "    main()"
   ]
  },
  {
   "cell_type": "markdown",
   "metadata": {},
   "source": [
    "Python可以在类中定义类方法，_"
   ]
  },
  {
   "cell_type": "code",
   "execution_count": 4,
   "metadata": {
    "tags": []
   },
   "outputs": [
    {
     "output_type": "stream",
     "name": "stdout",
     "text": "20:05:01\n20:05:02\n20:05:03\n20:05:04\n20:05:05\n20:05:06\n20:05:07\n20:05:08\n20:05:09\n20:05:10\n20:05:11\n20:05:12\n20:05:13\n20:05:14\n20:05:15\n20:05:16\n20:05:17\n20:05:18\n20:05:19\n20:05:20\n20:05:21\n20:05:22\n20:05:23\n20:05:24\n20:05:25\n20:05:26\n20:05:27\n20:05:28\n20:05:29\n20:05:30\n20:05:31\n20:05:32\n20:05:33\n20:05:34\n20:05:35\n20:05:36\n"
    }
   ],
   "source": [
    "from time import time,localtime,sleep\n",
    "\n",
    "class Clock(object):\n",
    "\n",
    "    def __init__(self,hour=0,min=0,sec=0):\n",
    "        self._hour = hour\n",
    "        self._min = min\n",
    "        self._sec = sec\n",
    "\n",
    "    @classmethod\n",
    "    def now(cls):\n",
    "        ctime = localtime(time()) # 初始化一个类\n",
    "        return cls(ctime.tm_hour,ctime.tm_min,ctime.tm_sec)\n",
    "\n",
    "    def run(self):\n",
    "        self._sec += 1\n",
    "        if self._sec == 60:\n",
    "            self._sec = 0\n",
    "            self._min += 1\n",
    "            if self._min == 60:\n",
    "                self._min = 0\n",
    "                self._hour += 1\n",
    "                if self._hour == 24:\n",
    "                    self._hour = 0\n",
    "    def show(self):\n",
    "        \"\"\"显示时间\"\"\"\n",
    "        return '%02d:%02d:%02d' % \\\n",
    "               (self._hour, self._min, self._sec)\n",
    "\n",
    "\n",
    "def main():\n",
    "    # 通过类方法创建对象并获取系统时间\n",
    "    clock = Clock.now()\n",
    "    while True:\n",
    "        print(clock.show())\n",
    "        sleep(1)\n",
    "        clock.run()\n",
    "\n",
    "\n",
    "if __name__ == '__main__':\n",
    "    main()\n"
   ]
  },
  {
   "cell_type": "code",
   "execution_count": null,
   "metadata": {},
   "outputs": [],
   "source": []
  }
 ]
}